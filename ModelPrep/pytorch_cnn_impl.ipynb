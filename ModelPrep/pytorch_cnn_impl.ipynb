{
 "cells": [
  {
   "cell_type": "code",
   "execution_count": 1,
   "metadata": {},
   "outputs": [
    {
     "name": "stderr",
     "output_type": "stream",
     "text": [
      "/home/danny/.local/lib/python3.10/site-packages/matplotlib/projections/__init__.py:63: UserWarning: Unable to import Axes3D. This may be due to multiple versions of Matplotlib being installed (e.g. as a system package and as a pip package). As a result, the 3D projection is not available.\n",
      "  warnings.warn(\"Unable to import Axes3D. This may be due to multiple versions of \"\n"
     ]
    }
   ],
   "source": [
    "#imports\n",
    "import librosa\n",
    "import librosa.display\n",
    "import matplotlib.pyplot as plt\n",
    "import numpy as np\n",
    "from sklearn.preprocessing import MinMaxScaler\n",
    "import pandas as pd\n",
    "import os\n",
    "from sklearn.model_selection import train_test_split\n",
    "import skimage.io\n",
    "import datetime\n",
    "import random\n",
    "from scipy.signal import spectrogram\n",
    "\n",
    "#PyTorch stuff\n",
    "import torch\n",
    "import torchvision as torchv\n",
    "import torch.nn as nn \n",
    "import torch.optim as optim\n",
    "import torchvision.transforms as transforms\n",
    "from torch.utils.data import DataLoader, TensorDataset, random_split\n",
    "from torchvision.datasets import ImageFolder\n",
    "import gc\n",
    "\n",
    "# File paths\n",
    "TESTDIR = './../Data/ToyotaLc/'\n",
    "TESTPATH = 'Lock/'\n",
    "TESTSIG = 'keyfob_signal2023Y1022163258.raw'\n",
    "TESTOUT = './../Data/MelSpecV1/ToyotaLc/'\n",
    "\n",
    "IMG_SIZE=165\n",
    "IMG_L = 165\n",
    "\n",
    "device = torch.device(\"cuda:0\" if torch.cuda.is_available() else \"cpu\")\n",
    "\n",
    "classes = ('Lock', 'Unlock','None')\n",
    "os.environ[\"PYTORCH_CUDA_ALLOC_CONF\"] = \"max_split_size_mb:512\"\n",
    "#torch.cuda.set_per_process_memory_fraction(0.8)"
   ]
  },
  {
   "cell_type": "code",
   "execution_count": 2,
   "metadata": {},
   "outputs": [],
   "source": [
    "# Define data transformations including normalization\n",
    "mean = [0.485, 0.456, 0.406]  # Mean values for the ImageNet dataset\n",
    "std = [0.229, 0.224, 0.225]   # Standard deviation values for the ImageNet dataset\n",
    "\n",
    "transform = transforms.Compose([\n",
    "    transforms.Resize((IMG_SIZE, IMG_L)),\n",
    "    transforms.ToTensor(),\n",
    "    transforms.Normalize(mean, std)  # Normalize with the specified mean and std\n",
    "])\n",
    "\n",
    "# Define the dataset using ImageFolder\n",
    "dataset = ImageFolder(TESTOUT, transform=transform)\n",
    "\n",
    "# Split the dataset into train and validation sets\n",
    "train_size = int(0.8 * len(dataset))\n",
    "val_size = len(dataset) - train_size\n",
    "train_dataset, val_dataset = random_split(dataset, [train_size, val_size])\n",
    "\n",
    "# Create data loaders for training and validation\n",
    "batch_size = 1\n",
    "train_loader = DataLoader(train_dataset, batch_size=batch_size, shuffle=True)\n",
    "val_loader = DataLoader(val_dataset, batch_size=batch_size)\n"
   ]
  },
  {
   "cell_type": "code",
   "execution_count": 3,
   "metadata": {},
   "outputs": [],
   "source": [
    "data_iterator = iter(train_loader)\n",
    "images, labels = next(data_iterator)"
   ]
  },
  {
   "cell_type": "code",
   "execution_count": 4,
   "metadata": {},
   "outputs": [
    {
     "name": "stderr",
     "output_type": "stream",
     "text": [
      "Clipping input data to the valid range for imshow with RGB data ([0..1] for floats or [0..255] for integers).\n"
     ]
    },
    {
     "data": {
      "image/png": "[encoded data removed]",
      "text/plain": [
       "<Figure size 200x200 with 1 Axes>"
      ]
     },
     "metadata": {},
     "output_type": "display_data"
    }
   ],
   "source": [
    "npimg = images[0].numpy()\n",
    "# Display the image using matplotlib\n",
    "plt.figure(figsize=(2,2))\n",
    "plt.imshow(np.transpose(npimg, (1, 2, 0)))\n",
    "plt.show()"
   ]
  },
  {
   "cell_type": "code",
   "execution_count": 5,
   "metadata": {},
   "outputs": [],
   "source": [
    "def evaluation(net, dataloader, device):\n",
    "    # calculate accuracy and loss\n",
    "    total, correct = 0, 0\n",
    "    loss_sum = 0.0\n",
    "    num_batches = len(dataloader)\n",
    "\n",
    "    with torch.no_grad():\n",
    "        for data in dataloader:\n",
    "            inputs, labels = data\n",
    "            inputs, labels = inputs.to(device), labels.to(device)\n",
    "            outputs = net(inputs)\n",
    "            _, pred = torch.max(outputs.data, 1)\n",
    "            total += labels.size(0)\n",
    "            correct += (pred == labels).sum().item()\n",
    "            loss = loss_fn(outputs, labels)\n",
    "            loss_sum += loss.item()\n",
    "\n",
    "    accuracy = 100 * correct / total\n",
    "    loss = loss_sum / num_batches\n",
    "\n",
    "    return accuracy, loss"
   ]
  },
  {
   "cell_type": "code",
   "execution_count": 6,
   "metadata": {},
   "outputs": [],
   "source": [
    "class DeepCNN(nn.Module):\n",
    "    def __init__(self):\n",
    "        super(DeepCNN, self).__init__()\n",
    "\n",
    "        # Stem\n",
    "        self.stem = nn.Sequential(\n",
    "            nn.Conv2d(3, 32, 3, padding=1),\n",
    "            nn.BatchNorm2d(32),\n",
    "            nn.ReLU(),\n",
    "            nn.Conv2d(32, 64, 3, padding=1),\n",
    "            nn.BatchNorm2d(64),\n",
    "            nn.ReLU(),\n",
    "            nn.MaxPool2d(2, 2)\n",
    "        )\n",
    "\n",
    "        # Inception blocks (similar to Inception-ResNet)\n",
    "        self.inception1 = InceptionBlock(64, 32, 64, 64, 64)  # Keep only one Inception block\n",
    "\n",
    "        # Fully connected layers\n",
    "        self.fc_model = nn.Sequential(\n",
    "            nn.Linear(1506176, 512),  # Adjust the input size based on the modified model\n",
    "            nn.ReLU(),\n",
    "            nn.Dropout(p=0.1),\n",
    "            nn.Linear(512, 3)\n",
    "        )\n",
    "\n",
    "    def forward(self, x):\n",
    "        x = self.stem(x)\n",
    "        x = self.inception1(x)\n",
    "        x = x.view(x.size(0), -1)\n",
    "        x = self.fc_model(x)\n",
    "        return x\n",
    "\n",
    "class InceptionBlock(nn.Module):\n",
    "    def __init__(self, in_channels, red_channels, mid1_channels, mid2_channels, out_channels):\n",
    "        super(InceptionBlock, self).__init__()\n",
    "\n",
    "        # 1x1 convolution branch\n",
    "        self.branch1x1 = nn.Sequential(\n",
    "            nn.Conv2d(in_channels, red_channels, 1),\n",
    "            nn.ReLU()\n",
    "        )\n",
    "\n",
    "        # 1x1 convolution followed by 3x3 convolution branch\n",
    "        self.branch3x3 = nn.Sequential(\n",
    "            nn.Conv2d(in_channels, mid1_channels, 1),\n",
    "            nn.ReLU(),\n",
    "            nn.Conv2d(mid1_channels, mid2_channels, 3, padding=1),\n",
    "            nn.ReLU()\n",
    "        )\n",
    "\n",
    "        # 1x1 convolution followed by 5x5 convolution branch\n",
    "        self.branch5x5 = nn.Sequential(\n",
    "            nn.Conv2d(in_channels, mid1_channels, 1),\n",
    "            nn.ReLU(),\n",
    "            nn.Conv2d(mid1_channels, mid2_channels, 5, padding=2),\n",
    "            nn.ReLU()\n",
    "        )\n",
    "\n",
    "        # 3x3 max-pooling followed by 1x1 convolution branch\n",
    "        self.branch_pool = nn.Sequential(\n",
    "            nn.MaxPool2d(3, stride=1, padding=1),\n",
    "            nn.Conv2d(in_channels, out_channels, 1),\n",
    "            nn.ReLU()\n",
    "        )\n",
    "\n",
    "    def forward(self, x):\n",
    "        branch1x1 = self.branch1x1(x)\n",
    "        branch3x3 = self.branch3x3(x)\n",
    "        branch5x5 = self.branch5x5(x)\n",
    "        branch_pool = self.branch_pool(x)\n",
    "        return torch.cat([branch1x1, branch3x3, branch5x5, branch_pool], 1)\n",
    "\n",
    "\n",
    "# Instantiate the deep CNN model\n",
    "#model = DeepCNN()"
   ]
  },
  {
   "cell_type": "code",
   "execution_count": 7,
   "metadata": {},
   "outputs": [],
   "source": [
    "# Training\n",
    "\n",
    "net = DeepCNN().to(device)\n",
    "loss_fn = nn.CrossEntropyLoss()\n",
    "opt = optim.Adam(net.parameters(), lr=1e-5)"
   ]
  },
  {
   "cell_type": "code",
   "execution_count": 8,
   "metadata": {},
   "outputs": [
    {
     "name": "stdout",
     "output_type": "stream",
     "text": [
      "Epoch: 0/100, Validation Acc: 64.00, Training Acc: 66.50, Validation Loss: 0.6381\n",
      "Epoch: 1/100, Validation Acc: 64.00, Training Acc: 67.00, Validation Loss: 0.7063\n",
      "Epoch: 2/100, Validation Acc: 64.00, Training Acc: 66.50, Validation Loss: 0.5327\n",
      "Epoch: 3/100, Validation Acc: 68.00, Training Acc: 79.00, Validation Loss: 0.4657\n",
      "Epoch: 4/100, Validation Acc: 66.00, Training Acc: 77.00, Validation Loss: 0.5218\n",
      "Epoch: 5/100, Validation Acc: 66.00, Training Acc: 76.00, Validation Loss: 0.4761\n",
      "Epoch: 6/100, Validation Acc: 76.00, Training Acc: 83.00, Validation Loss: 0.4673\n",
      "Epoch: 7/100, Validation Acc: 80.00, Training Acc: 84.50, Validation Loss: 0.4484\n",
      "Epoch: 8/100, Validation Acc: 82.00, Training Acc: 86.50, Validation Loss: 0.4405\n",
      "Epoch: 9/100, Validation Acc: 72.00, Training Acc: 85.50, Validation Loss: 0.5743\n",
      "Epoch: 10/100, Validation Acc: 64.00, Training Acc: 68.00, Validation Loss: 0.8420\n",
      "Epoch: 11/100, Validation Acc: 80.00, Training Acc: 90.00, Validation Loss: 0.4700\n",
      "Epoch: 12/100, Validation Acc: 86.00, Training Acc: 92.50, Validation Loss: 0.3797\n",
      "Epoch: 13/100, Validation Acc: 66.00, Training Acc: 74.50, Validation Loss: 0.6276\n"
     ]
    },
    {
     "ename": "KeyboardInterrupt",
     "evalue": "",
     "output_type": "error",
     "traceback": [
      "\u001b[0;31m---------------------------------------------------------------------------\u001b[0m",
      "\u001b[0;31mKeyboardInterrupt\u001b[0m                         Traceback (most recent call last)",
      "File \u001b[0;32m<timed exec>:23\u001b[0m\n",
      "\u001b[0;31mKeyboardInterrupt\u001b[0m: "
     ]
    }
   ],
   "source": [
    "%%time\n",
    "loss_arr = []\n",
    "loss_epoch_arr = []\n",
    "max_epochs = 100\n",
    "patience = 10\n",
    "min_loss_threshold = 1e-4  # Minimum improvement threshold\n",
    "best_val_loss = float('inf')  # Initialize with a large value\n",
    "epochs_without_improvement = 0\n",
    "\n",
    "for epoch in range(max_epochs):\n",
    "    net.train()  # Set the model to training mode\n",
    "\n",
    "    for i, data in enumerate(train_loader, 0):\n",
    "        inputs, labels = data\n",
    "        #inputs, labels = inputs.to(torch.float), labels.to(torch.float)\n",
    "        inputs, labels = inputs.to(device), labels.to(device)\n",
    "\n",
    "        opt.zero_grad()\n",
    "\n",
    "        outputs = net(inputs)\n",
    "        loss = loss_fn(outputs, labels)\n",
    "        loss.backward()\n",
    "        opt.step()\n",
    "        loss_arr.append(loss.item())\n",
    "\n",
    "    net.eval()  # Set the model to evaluation mode\n",
    "\n",
    "    # Calculate accuracy and loss on validation and training data\n",
    "    val_accuracy, val_loss = evaluation(net, val_loader, device)\n",
    "    train_accuracy, train_loss = evaluation(net, train_loader, device)\n",
    "    \n",
    "    # Check if the validation loss has improved\n",
    "    if val_loss < best_val_loss - min_loss_threshold:\n",
    "        best_val_loss = val_loss\n",
    "        epochs_without_improvement = 0\n",
    "    else:\n",
    "        epochs_without_improvement += 1\n",
    "\n",
    "    # Early stopping check\n",
    "    if epochs_without_improvement >= patience:\n",
    "        print(f\"Early stopping after {patience} epochs without improvement.\")\n",
    "        break\n",
    "\n",
    "    loss_epoch_arr.append(train_loss)  # Use training loss for plotting\n",
    "    \n",
    "    print('Epoch: %d/%d, Validation Acc: %0.2f, Training Acc: %0.2f, Validation Loss: %0.4f' % (epoch, max_epochs, val_accuracy, train_accuracy, val_loss))\n",
    "\n",
    "# Plot the training loss\n",
    "plt.plot(loss_epoch_arr)\n",
    "plt.xlabel(\"Epochs\")\n",
    "plt.ylabel(\"Training Loss\")\n",
    "plt.title(\"Training Loss\")\n",
    "plt.show()"
   ]
  },
  {
   "cell_type": "code",
   "execution_count": null,
   "metadata": {},
   "outputs": [],
   "source": [
    "torch.save(net.state_dict(), 'DenseCNN_weights_toyota_lc_V6')"
   ]
  }
 ],
 "metadata": {
  "kernelspec": {
   "display_name": "ml-env",
   "language": "python",
   "name": "python3"
  },
  "language_info": {
   "codemirror_mode": {
    "name": "ipython",
    "version": 3
   },
   "file_extension": ".py",
   "mimetype": "text/x-python",
   "name": "python",
   "nbconvert_exporter": "python",
   "pygments_lexer": "ipython3",
   "version": "3.10.12"
  }
 },
 "nbformat": 4,
 "nbformat_minor": 2
}
