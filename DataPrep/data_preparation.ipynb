{
 "cells": [
  {
   "cell_type": "markdown",
   "metadata": {},
   "source": [
    "### Data Prep"
   ]
  },
  {
   "cell_type": "code",
   "execution_count": null,
   "metadata": {},
   "outputs": [],
   "source": [
    "import librosa\n",
    "import librosa.display\n",
    "import matplotlib.pyplot as plt\n",
    "import numpy as np\n",
    "from sklearn.preprocessing import MinMaxScaler\n",
    "import pandas as pd\n",
    "import os\n",
    "from sklearn.model_selection import train_test_split\n",
    "import torch\n",
    "import torch.nn as nn \n",
    "import torch.optim as optim"
   ]
  },
  {
   "cell_type": "code",
   "execution_count": null,
   "metadata": {},
   "outputs": [],
   "source": [
    "# File paths\n",
    "TESTDIR = './../Data/Hyundai/'\n",
    "TESTPATH = 'Lock/'\n",
    "TESTSIG = 'keyfob_signal2023Y1022163258.raw'"
   ]
  },
  {
   "cell_type": "markdown",
   "metadata": {},
   "source": [
    "Separate I from Q\n",
    "- we only care about the \"real\" portion"
   ]
  },
  {
   "cell_type": "code",
   "execution_count": null,
   "metadata": {},
   "outputs": [],
   "source": [
    "# Specify the path to your .raw file\n",
    "file_path = './../Data/Hyundai/Lock/keyfob_signal20231022163539.raw'\n",
    "\n",
    "# Read the raw file as bytes\n",
    "with open(file_path, 'rb') as file:\n",
    "    raw_data = file.read()\n",
    "\n",
    "# Convert the raw data to a NumPy array of complex numbers\n",
    "# Assuming the raw data consists of interleaved I and Q samples (16-bit signed integers)\n",
    "raw_array = np.frombuffer(raw_data, dtype=np.int16).astype(np.complex64)\n",
    "\n",
    "# Extract the in-phase (I) and quadrature (Q) components\n",
    "I = raw_array.real\n",
    "Q = raw_array.imag\n",
    "\n",
    "# Create a time axis for the signal (assuming a fixed sample rate)\n",
    "sample_rate = 2e6  # Replace with your actual sample rate\n",
    "time = np.arange(0, len(I)) / sample_rate"
   ]
  },
  {
   "cell_type": "markdown",
   "metadata": {},
   "source": [
    "Trim our samples to get rid of the noise from start and end of capture"
   ]
  },
  {
   "cell_type": "code",
   "execution_count": null,
   "metadata": {},
   "outputs": [],
   "source": [
    "# Define the trim duration in seconds\n",
    "trim_start = 0.005  # 5 ms\n",
    "trim_end = 0.005    # 5 ms\n",
    "\n",
    "# Calculate the number of samples to trim\n",
    "trim_samples = int(sample_rate * (trim_start + trim_end))\n",
    "\n",
    "# Trim the signal\n",
    "I_trimmed = I[trim_samples:-trim_samples]\n",
    "Q_trimmed = Q[trim_samples:-trim_samples]\n",
    "time_trimmed = time[trim_samples:-trim_samples]"
   ]
  },
  {
   "cell_type": "code",
   "execution_count": null,
   "metadata": {},
   "outputs": [],
   "source": [
    "# Plot the I and Q components\n",
    "plt.figure(figsize=(12, 6))\n",
    "plt.subplot(2, 1, 1)\n",
    "plt.plot(time_trimmed, I_trimmed)\n",
    "plt.title('In-phase Component (Trimmed)')\n",
    "plt.xlabel('Time (s)')\n",
    "plt.grid()\n",
    "\n",
    "\"\"\"plt.subplot(2, 1, 2)\n",
    "plt.plot(time_trimmed, Q_trimmed)\n",
    "plt.title('Quadrature Component (Trimmed)')\n",
    "plt.xlabel('Time (s)')\n",
    "plt.grid()\"\"\"\n",
    "\n",
    "plt.tight_layout()\n",
    "plt.show()"
   ]
  },
  {
   "cell_type": "markdown",
   "metadata": {},
   "source": [
    "Normalize our Data"
   ]
  },
  {
   "cell_type": "code",
   "execution_count": null,
   "metadata": {},
   "outputs": [],
   "source": [
    "# Create a Min-Max scaler\n",
    "scaler = MinMaxScaler()\n",
    "\n",
    "# Fit and transform the data (I)\n",
    "I_scaled = scaler.fit_transform(I_trimmed.reshape(-1, 1))"
   ]
  },
  {
   "cell_type": "markdown",
   "metadata": {},
   "source": [
    "Split our data"
   ]
  },
  {
   "cell_type": "code",
   "execution_count": null,
   "metadata": {},
   "outputs": [],
   "source": [
    "import torch.nn.utils.rnn as rnn_utils\n",
    "\n",
    "def process_signals(signals):\n",
    "    # Determine the maximum sequence length\n",
    "    max_sequence_length = max(len(seq) for seq in signals)\n",
    "\n",
    "    # Sort signals by length in descending order\n",
    "    signals.sort(key=len, reverse=True)\n",
    "\n",
    "    # Create a tensor with zero padding to the maximum length\n",
    "    padded_signals = torch.zeros((len(signals), max_sequence_length), dtype=torch.float32)\n",
    "\n",
    "    # Fill in the padded signals with the original data\n",
    "    for i, signal in enumerate(signals):\n",
    "        padded_signals[i, :len(signal)] = torch.tensor(signal, dtype=torch.float32)\n",
    "\n",
    "    # Get the lengths of original signals for pack_padded_sequence\n",
    "    signal_lengths = torch.tensor([len(signal) for signal in signals])\n",
    "\n",
    "    # Use pack_padded_sequence to pack the padded signals\n",
    "    packed_signals = rnn_utils.pack_padded_sequence(padded_signals, signal_lengths, batch_first=True, enforce_sorted=False)\n",
    "\n",
    "    return packed_signals\n"
   ]
  },
  {
   "cell_type": "code",
   "execution_count": null,
   "metadata": {},
   "outputs": [],
   "source": [
    "def create_signal_dataframe(data_dir):\n",
    "    I_data_list = []\n",
    "    labels_list = []\n",
    "\n",
    "    for category in os.listdir(data_dir):\n",
    "        category_dir = os.path.join(data_dir, category)\n",
    "        if os.path.isdir(category_dir):\n",
    "            for file in os.listdir(category_dir):\n",
    "                if file.endswith(\".raw\"):\n",
    "                    file_path = os.path.join(category_dir, file)\n",
    "\n",
    "                    with open(file_path, 'rb') as file:\n",
    "                        raw_data = file.read()\n",
    "\n",
    "                    raw_array = np.frombuffer(raw_data, dtype=np.int16).astype(np.complex64)\n",
    "                    I_data = raw_array.real\n",
    "\n",
    "                    # Create a time axis for the signal (assuming a fixed sample rate)\n",
    "                    sample_rate = 2e6  # Replace with your actual sample rate\n",
    "                    time = np.arange(0, len(I)) / sample_rate\n",
    "\n",
    "                    # Define the trim duration in seconds\n",
    "                    trim_start = 0.005  # 5 ms\n",
    "                    trim_end = 0.005    # 5 ms\n",
    "\n",
    "                    # Calculate the number of samples to trim\n",
    "                    trim_samples = int(sample_rate * (trim_start + trim_end))\n",
    "\n",
    "                    # Trim the signal\n",
    "                    I_trimmed = I_data[trim_samples:-trim_samples]\n",
    "                    #time_trimmed = time[trim_samples:-trim_samples]\n",
    "                    I_scaled = scaler.fit_transform(I_trimmed.reshape(-1, 1))\n",
    "\n",
    "                    I_data_list.append(I_scaled)\n",
    "                    # Process and pack the signals\n",
    "                    labels_list.append(category)\n",
    "    \n",
    "    processed_signals = process_signals(I_data_list)\n",
    "\n",
    "    one_hot_labels = pd.get_dummies(labels_list, columns=['Label'])                \n",
    "\n",
    "    df = pd.DataFrame({'Signal': processed_signals})\n",
    "    df = pd.concat([df, one_hot_labels], axis=1)\n",
    "    \n",
    "    return df"
   ]
  },
  {
   "cell_type": "code",
   "execution_count": null,
   "metadata": {},
   "outputs": [],
   "source": [
    "# Example usage\n",
    "data_directory = TESTDIR  # Change this to the path of your 'Data' directory\n",
    "hyundai_df = create_signal_dataframe(data_directory)"
   ]
  },
  {
   "cell_type": "code",
   "execution_count": null,
   "metadata": {},
   "outputs": [],
   "source": [
    "hyundai_df.head()"
   ]
  },
  {
   "cell_type": "code",
   "execution_count": null,
   "metadata": {},
   "outputs": [],
   "source": [
    "hyundai_df_shuffled = hyundai_df.sample(frac=1, random_state=43).reset_index(drop=True)\n",
    "hyundai_df_shuffled.head()"
   ]
  },
  {
   "cell_type": "code",
   "execution_count": null,
   "metadata": {},
   "outputs": [],
   "source": [
    "X = hyundai_df_shuffled['Signal'].values\n",
    "y = hyundai_df_shuffled['Unlock'].values"
   ]
  },
  {
   "cell_type": "code",
   "execution_count": null,
   "metadata": {},
   "outputs": [],
   "source": [
    "X_train, X_test, y_train, y_test = train_test_split(\n",
    "    X,\n",
    "    y,\n",
    "    test_size=0.2,\n",
    "    random_state=43,\n",
    ")"
   ]
  },
  {
   "cell_type": "code",
   "execution_count": null,
   "metadata": {},
   "outputs": [],
   "source": [
    "from torch.utils.data import DataLoader, Dataset\n",
    "\n",
    "class RFSignalDataset(Dataset):\n",
    "    def __init__(self, data, labels, max_sequence_length):\n",
    "        self.data = data\n",
    "        self.labels = labels\n",
    "        self.max_sequence_length = max_sequence_length  # Specify the desired sequence length\n",
    "\n",
    "    def __len__(self):\n",
    "        return len(self.data)\n",
    "\n",
    "    def pad_sequence(self, sequence):\n",
    "        if len(sequence) < self.max_sequence_length:\n",
    "            padding = torch.zeros((self.max_sequence_length - len(sequence), 1), dtype=sequence.dtype)\n",
    "            sequence = torch.cat((sequence, padding))\n",
    "        return sequence\n",
    "\n",
    "    def __getitem__(self, index):\n",
    "        data = self.data[index]\n",
    "        data = self.pad_sequence(data)\n",
    "        sample = {'data': data, 'label': self.labels[index]}\n",
    "        return sample\n",
    "\n",
    "# Define a custom neural network model\n",
    "class RFSignalClassifier(nn.Module):\n",
    "    def __init__(self, input_size, num_classes):\n",
    "        super(RFSignalClassifier, self).__init__()\n",
    "        self.fc1 = nn.Linear(input_size, 64)\n",
    "        self.fc2 = nn.Linear(64, 32)\n",
    "        self.fc3 = nn.Linear(32, num_classes)\n",
    "        self.relu = nn.ReLU()\n",
    "\n",
    "    def forward(self, x):\n",
    "        x = self.fc1(x)\n",
    "        x = self.relu(x)\n",
    "        x = self.fc2(x)\n",
    "        x = self.relu(x)\n",
    "        x = self.fc3(x)\n",
    "        return x"
   ]
  },
  {
   "cell_type": "code",
   "execution_count": null,
   "metadata": {},
   "outputs": [],
   "source": [
    "# Create datasets and data loaders\n",
    "train_dataset = RFSignalDataset(X_train, y_train,90000)\n",
    "test_dataset = RFSignalDataset(X_test, y_test, 90000)\n",
    "train_loader = DataLoader(train_dataset, batch_size=64, shuffle=True)\n",
    "test_loader = DataLoader(test_dataset, batch_size=64)\n",
    "\n",
    "# Initialize the model and optimizer\n",
    "input_size = X_train.size  # Specify the input size based on your X_train shape\n",
    "num_classes = 1 # Specify the number of classes\n",
    "model = RFSignalClassifier(input_size, num_classes)\n",
    "optimizer = optim.Adam(model.parameters(), lr=0.001)\n",
    "criterion = nn.CrossEntropyLoss()  # For classification tasks\n",
    "\n",
    "# Training loop\n",
    "num_epochs = 10\n",
    "for epoch in range(num_epochs):\n",
    "    model.train()\n",
    "    for batch in train_loader:\n",
    "        data = batch['data']\n",
    "        labels = batch['label']\n",
    "        optimizer.zero_grad()\n",
    "        outputs = model(data)\n",
    "        loss = criterion(outputs, labels)\n",
    "        loss.backward()\n",
    "        optimizer.step()\n",
    "\n",
    "    # Validation loop (optional)\n",
    "    model.eval()\n",
    "    with torch.no_grad():\n",
    "        total = 0\n",
    "        correct = 0\n",
    "        for batch in test_loader:\n",
    "            data = batch['data']\n",
    "            labels = batch['label']\n",
    "            outputs = model(data)\n",
    "            _, predicted = torch.max(outputs.data, 1)\n",
    "            total += labels.size(0)\n",
    "            correct += (predicted == labels).sum().item()\n",
    "        accuracy = 100 * correct / total\n",
    "        print(f'Epoch [{epoch+1}/{num_epochs}], Loss: {loss.item():.4f}, Accuracy: {accuracy:.2f}%')"
   ]
  },
  {
   "cell_type": "code",
   "execution_count": null,
   "metadata": {},
   "outputs": [],
   "source": [
    "# Save the trained model\n",
    "#torch.save(model.state_dict(), 'rf_signal_classifier.pth')"
   ]
  }
 ],
 "metadata": {
  "kernelspec": {
   "display_name": "ml-env",
   "language": "python",
   "name": "python3"
  },
  "language_info": {
   "codemirror_mode": {
    "name": "ipython",
    "version": 3
   },
   "file_extension": ".py",
   "mimetype": "text/x-python",
   "name": "python",
   "nbconvert_exporter": "python",
   "pygments_lexer": "ipython3",
   "version": "3.11.5"
  }
 },
 "nbformat": 4,
 "nbformat_minor": 2
}
